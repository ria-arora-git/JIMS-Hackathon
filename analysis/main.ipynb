{
 "cells": [
  {
   "cell_type": "code",
   "execution_count": 2,
   "metadata": {},
   "outputs": [
    {
     "name": "stdout",
     "output_type": "stream",
     "text": [
      "Collecting pandas\n",
      "  Downloading pandas-2.2.3-cp313-cp313-macosx_11_0_arm64.whl.metadata (89 kB)\n",
      "Requirement already satisfied: numpy>=1.26.0 in /Library/Frameworks/Python.framework/Versions/3.13/lib/python3.13/site-packages (from pandas) (2.2.3)\n",
      "Requirement already satisfied: python-dateutil>=2.8.2 in /Users/riaarora/Library/Python/3.13/lib/python/site-packages (from pandas) (2.9.0.post0)\n",
      "Collecting pytz>=2020.1 (from pandas)\n",
      "  Using cached pytz-2025.1-py2.py3-none-any.whl.metadata (22 kB)\n",
      "Collecting tzdata>=2022.7 (from pandas)\n",
      "  Using cached tzdata-2025.1-py2.py3-none-any.whl.metadata (1.4 kB)\n",
      "Requirement already satisfied: six>=1.5 in /Users/riaarora/Library/Python/3.13/lib/python/site-packages (from python-dateutil>=2.8.2->pandas) (1.17.0)\n",
      "Downloading pandas-2.2.3-cp313-cp313-macosx_11_0_arm64.whl (11.3 MB)\n",
      "\u001b[2K   \u001b[90m━━━━━━━━━━━━━━━━━━━━━━━━━━━━━━━━━━━━━━━━\u001b[0m \u001b[32m11.3/11.3 MB\u001b[0m \u001b[31m5.8 MB/s\u001b[0m eta \u001b[36m0:00:00\u001b[0ma \u001b[36m0:00:01\u001b[0m\n",
      "\u001b[?25hUsing cached pytz-2025.1-py2.py3-none-any.whl (507 kB)\n",
      "Using cached tzdata-2025.1-py2.py3-none-any.whl (346 kB)\n",
      "Installing collected packages: pytz, tzdata, pandas\n",
      "Successfully installed pandas-2.2.3 pytz-2025.1 tzdata-2025.1\n"
     ]
    }
   ],
   "source": [
    "!pip3 install pandas"
   ]
  },
  {
   "cell_type": "code",
   "execution_count": 3,
   "metadata": {},
   "outputs": [],
   "source": [
    "import pandas as pd"
   ]
  },
  {
   "cell_type": "code",
   "execution_count": 7,
   "metadata": {},
   "outputs": [
    {
     "data": {
      "text/plain": [
       "SPID                          9514\n",
       "PROP_ID                       9514\n",
       "PREFERENCE                    9514\n",
       "DESCRIPTION                   9514\n",
       "PROPERTY_TYPE                 9514\n",
       "CITY                          9514\n",
       "TRANSACT_TYPE                 6867\n",
       "OWNTYPE                       9514\n",
       "BEDROOM_NUM                   9453\n",
       "PRICE_PER_UNIT_AREA           9514\n",
       "FURNISH                       9514\n",
       "FACING                        9514\n",
       "AGE                           9514\n",
       "TOTAL_FLOOR                   9497\n",
       "FEATURES                      9514\n",
       "REGISTER_DATE                 9514\n",
       "POSTING_DATE                  9103\n",
       "UPDATE_DATE                   9514\n",
       "CLASS                         9514\n",
       "RES_COM                       9514\n",
       "PROP_NAME                     9404\n",
       "PROPERTY_NUMBER               9514\n",
       "MIN_PRICE                     9514\n",
       "MAX_PRICE                     9514\n",
       "PRICE_SQFT                    9514\n",
       "PROJ_ID                       9514\n",
       "BUILDING_ID                   9514\n",
       "VERIFIED                      9514\n",
       "MAP_DETAILS                   9514\n",
       "MIN_AREA_SQFT                 9514\n",
       "MAX_AREA_SQFT                 9514\n",
       "AMENITIES                     4979\n",
       "ALT_TAG                       8388\n",
       "PRODUCT_TYPE                  9514\n",
       "TOP_USPS                      3418\n",
       "EXPIRY_DATE                   9514\n",
       "PROPERTY_TYPE__U              9514\n",
       "AREA                          9514\n",
       "SECONDARY_AREA                9514\n",
       "PRICE                         9514\n",
       "PROP_HEADING                  9514\n",
       "VALUE_LABEL                   6867\n",
       "CLASS_HEADING                 9514\n",
       "CLASS_LABEL                   9514\n",
       "REGISTER_DATE__U              9514\n",
       "REGISTERED_DAYS               9514\n",
       "PRIMARY_TAGS                  9514\n",
       "SECONDARY_TAGS                9514\n",
       "TOTAL_LANDMARK_COUNT          9337\n",
       "FORMATTED_LANDMARK_DETAILS    9337\n",
       "SOCIETY_NAME                  9404\n",
       "BUILDING_NAME                 9404\n",
       "location                      9514\n",
       "BALCONY_NUM                   5157\n",
       "FLOOR_NUM                     9341\n",
       "dtype: int64"
      ]
     },
     "execution_count": 7,
     "metadata": {},
     "output_type": "execute_result"
    }
   ],
   "source": [
    "df = pd.read_csv('mumbai.csv')\n",
    "df.head()\n",
    "df.count()"
   ]
  },
  {
   "cell_type": "code",
   "execution_count": 8,
   "metadata": {},
   "outputs": [],
   "source": [
    "# get unique values of a SPID of df\n",
    "test = df.drop_duplicates()"
   ]
  },
  {
   "cell_type": "code",
   "execution_count": 9,
   "metadata": {},
   "outputs": [
    {
     "data": {
      "text/plain": [
       "SPID                          9514\n",
       "PROP_ID                       9514\n",
       "PREFERENCE                    9514\n",
       "DESCRIPTION                   9514\n",
       "PROPERTY_TYPE                 9514\n",
       "CITY                          9514\n",
       "TRANSACT_TYPE                 6867\n",
       "OWNTYPE                       9514\n",
       "BEDROOM_NUM                   9453\n",
       "PRICE_PER_UNIT_AREA           9514\n",
       "FURNISH                       9514\n",
       "FACING                        9514\n",
       "AGE                           9514\n",
       "TOTAL_FLOOR                   9497\n",
       "FEATURES                      9514\n",
       "REGISTER_DATE                 9514\n",
       "POSTING_DATE                  9103\n",
       "UPDATE_DATE                   9514\n",
       "CLASS                         9514\n",
       "RES_COM                       9514\n",
       "PROP_NAME                     9404\n",
       "PROPERTY_NUMBER               9514\n",
       "MIN_PRICE                     9514\n",
       "MAX_PRICE                     9514\n",
       "PRICE_SQFT                    9514\n",
       "PROJ_ID                       9514\n",
       "BUILDING_ID                   9514\n",
       "VERIFIED                      9514\n",
       "MAP_DETAILS                   9514\n",
       "MIN_AREA_SQFT                 9514\n",
       "MAX_AREA_SQFT                 9514\n",
       "AMENITIES                     4979\n",
       "ALT_TAG                       8388\n",
       "PRODUCT_TYPE                  9514\n",
       "TOP_USPS                      3418\n",
       "EXPIRY_DATE                   9514\n",
       "PROPERTY_TYPE__U              9514\n",
       "AREA                          9514\n",
       "SECONDARY_AREA                9514\n",
       "PRICE                         9514\n",
       "PROP_HEADING                  9514\n",
       "VALUE_LABEL                   6867\n",
       "CLASS_HEADING                 9514\n",
       "CLASS_LABEL                   9514\n",
       "REGISTER_DATE__U              9514\n",
       "REGISTERED_DAYS               9514\n",
       "PRIMARY_TAGS                  9514\n",
       "SECONDARY_TAGS                9514\n",
       "TOTAL_LANDMARK_COUNT          9337\n",
       "FORMATTED_LANDMARK_DETAILS    9337\n",
       "SOCIETY_NAME                  9404\n",
       "BUILDING_NAME                 9404\n",
       "location                      9514\n",
       "BALCONY_NUM                   5157\n",
       "FLOOR_NUM                     9341\n",
       "dtype: int64"
      ]
     },
     "execution_count": 9,
     "metadata": {},
     "output_type": "execute_result"
    }
   ],
   "source": [
    "test.count()"
   ]
  },
  {
   "cell_type": "code",
   "execution_count": 11,
   "metadata": {},
   "outputs": [],
   "source": [
    "test.drop_duplicates('SPID', inplace=True)"
   ]
  },
  {
   "cell_type": "code",
   "execution_count": 12,
   "metadata": {},
   "outputs": [
    {
     "data": {
      "text/plain": [
       "SPID                          9500\n",
       "PROP_ID                       9500\n",
       "PREFERENCE                    9500\n",
       "DESCRIPTION                   9500\n",
       "PROPERTY_TYPE                 9500\n",
       "CITY                          9500\n",
       "TRANSACT_TYPE                 6867\n",
       "OWNTYPE                       9500\n",
       "BEDROOM_NUM                   9439\n",
       "PRICE_PER_UNIT_AREA           9500\n",
       "FURNISH                       9500\n",
       "FACING                        9500\n",
       "AGE                           9500\n",
       "TOTAL_FLOOR                   9483\n",
       "FEATURES                      9500\n",
       "REGISTER_DATE                 9500\n",
       "POSTING_DATE                  9089\n",
       "UPDATE_DATE                   9500\n",
       "CLASS                         9500\n",
       "RES_COM                       9500\n",
       "PROP_NAME                     9390\n",
       "PROPERTY_NUMBER               9500\n",
       "MIN_PRICE                     9500\n",
       "MAX_PRICE                     9500\n",
       "PRICE_SQFT                    9500\n",
       "PROJ_ID                       9500\n",
       "BUILDING_ID                   9500\n",
       "VERIFIED                      9500\n",
       "MAP_DETAILS                   9500\n",
       "MIN_AREA_SQFT                 9500\n",
       "MAX_AREA_SQFT                 9500\n",
       "AMENITIES                     4965\n",
       "ALT_TAG                       8374\n",
       "PRODUCT_TYPE                  9500\n",
       "TOP_USPS                      3408\n",
       "EXPIRY_DATE                   9500\n",
       "PROPERTY_TYPE__U              9500\n",
       "AREA                          9500\n",
       "SECONDARY_AREA                9500\n",
       "PRICE                         9500\n",
       "PROP_HEADING                  9500\n",
       "VALUE_LABEL                   6867\n",
       "CLASS_HEADING                 9500\n",
       "CLASS_LABEL                   9500\n",
       "REGISTER_DATE__U              9500\n",
       "REGISTERED_DAYS               9500\n",
       "PRIMARY_TAGS                  9500\n",
       "SECONDARY_TAGS                9500\n",
       "TOTAL_LANDMARK_COUNT          9324\n",
       "FORMATTED_LANDMARK_DETAILS    9324\n",
       "SOCIETY_NAME                  9390\n",
       "BUILDING_NAME                 9390\n",
       "location                      9500\n",
       "BALCONY_NUM                   5143\n",
       "FLOOR_NUM                     9327\n",
       "dtype: int64"
      ]
     },
     "execution_count": 12,
     "metadata": {},
     "output_type": "execute_result"
    }
   ],
   "source": [
    "test.count()"
   ]
  },
  {
   "cell_type": "code",
   "execution_count": 13,
   "metadata": {},
   "outputs": [],
   "source": [
    "# save test df as csv\n",
    "test.to_csv('test.csv', index=False)\n"
   ]
  },
  {
   "cell_type": "code",
   "execution_count": null,
   "metadata": {},
   "outputs": [],
   "source": []
  }
 ],
 "metadata": {
  "kernelspec": {
   "display_name": "Python 3",
   "language": "python",
   "name": "python3"
  },
  "language_info": {
   "codemirror_mode": {
    "name": "ipython",
    "version": 3
   },
   "file_extension": ".py",
   "mimetype": "text/x-python",
   "name": "python",
   "nbconvert_exporter": "python",
   "pygments_lexer": "ipython3",
   "version": "3.13.1"
  }
 },
 "nbformat": 4,
 "nbformat_minor": 2
}
